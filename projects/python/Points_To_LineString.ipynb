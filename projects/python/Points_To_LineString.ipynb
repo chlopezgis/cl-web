{
 "cells": [
  {
   "cell_type": "code",
   "execution_count": 1,
   "id": "e3850e3d",
   "metadata": {},
   "outputs": [
    {
     "name": "stdout",
     "output_type": "stream",
     "text": [
      "Realizado\n"
     ]
    }
   ],
   "source": [
    "# Importar librerias:\n",
    "from shapely.geometry import Point, LineString\n",
    "import pandas as pd\n",
    "import geopandas as gpd\n",
    "import os\n",
    "print('Realizado')"
   ]
  },
  {
   "cell_type": "markdown",
   "id": "7d575500",
   "metadata": {},
   "source": [
    "### Lectura de archivos"
   ]
  },
  {
   "cell_type": "code",
   "execution_count": 8,
   "id": "3cfb6b5a",
   "metadata": {},
   "outputs": [
    {
     "name": "stdout",
     "output_type": "stream",
     "text": [
      "Realizado\n"
     ]
    }
   ],
   "source": [
    "original = 'data/original.csv'\n",
    "desplazado = 'data/desplazado.csv'\n",
    "print('Realizado')"
   ]
  },
  {
   "cell_type": "markdown",
   "id": "a9589830",
   "metadata": {},
   "source": [
    "### Convertir a DataFrame"
   ]
  },
  {
   "cell_type": "code",
   "execution_count": 9,
   "id": "3919cc06",
   "metadata": {},
   "outputs": [
    {
     "name": "stdout",
     "output_type": "stream",
     "text": [
      "Realizado\n"
     ]
    }
   ],
   "source": [
    "dfOrg = pd.read_csv(original, sep=';')\n",
    "dfDpz = pd.read_csv(desplazado, sep=';')\n",
    "print('Realizado')"
   ]
  },
  {
   "cell_type": "code",
   "execution_count": 10,
   "id": "376982ce",
   "metadata": {},
   "outputs": [
    {
     "data": {
      "text/html": [
       "<div>\n",
       "<style scoped>\n",
       "    .dataframe tbody tr th:only-of-type {\n",
       "        vertical-align: middle;\n",
       "    }\n",
       "\n",
       "    .dataframe tbody tr th {\n",
       "        vertical-align: top;\n",
       "    }\n",
       "\n",
       "    .dataframe thead th {\n",
       "        text-align: right;\n",
       "    }\n",
       "</style>\n",
       "<table border=\"1\" class=\"dataframe\">\n",
       "  <thead>\n",
       "    <tr style=\"text-align: right;\">\n",
       "      <th></th>\n",
       "      <th>id</th>\n",
       "      <th>lon</th>\n",
       "      <th>lat</th>\n",
       "    </tr>\n",
       "  </thead>\n",
       "  <tbody>\n",
       "    <tr>\n",
       "      <th>0</th>\n",
       "      <td>32</td>\n",
       "      <td>-73.042052</td>\n",
       "      <td>-3.499631</td>\n",
       "    </tr>\n",
       "    <tr>\n",
       "      <th>1</th>\n",
       "      <td>33</td>\n",
       "      <td>-73.139910</td>\n",
       "      <td>-3.588879</td>\n",
       "    </tr>\n",
       "    <tr>\n",
       "      <th>2</th>\n",
       "      <td>34</td>\n",
       "      <td>-72.764743</td>\n",
       "      <td>-3.422353</td>\n",
       "    </tr>\n",
       "  </tbody>\n",
       "</table>\n",
       "</div>"
      ],
      "text/plain": [
       "   id        lon       lat\n",
       "0  32 -73.042052 -3.499631\n",
       "1  33 -73.139910 -3.588879\n",
       "2  34 -72.764743 -3.422353"
      ]
     },
     "execution_count": 10,
     "metadata": {},
     "output_type": "execute_result"
    }
   ],
   "source": [
    "dfOrg.head(3)"
   ]
  },
  {
   "cell_type": "code",
   "execution_count": 11,
   "id": "1ed7133b",
   "metadata": {},
   "outputs": [
    {
     "data": {
      "text/html": [
       "<div>\n",
       "<style scoped>\n",
       "    .dataframe tbody tr th:only-of-type {\n",
       "        vertical-align: middle;\n",
       "    }\n",
       "\n",
       "    .dataframe tbody tr th {\n",
       "        vertical-align: top;\n",
       "    }\n",
       "\n",
       "    .dataframe thead th {\n",
       "        text-align: right;\n",
       "    }\n",
       "</style>\n",
       "<table border=\"1\" class=\"dataframe\">\n",
       "  <thead>\n",
       "    <tr style=\"text-align: right;\">\n",
       "      <th></th>\n",
       "      <th>id</th>\n",
       "      <th>lon</th>\n",
       "      <th>lat</th>\n",
       "    </tr>\n",
       "  </thead>\n",
       "  <tbody>\n",
       "    <tr>\n",
       "      <th>0</th>\n",
       "      <td>32</td>\n",
       "      <td>-73.040750</td>\n",
       "      <td>-3.502746</td>\n",
       "    </tr>\n",
       "    <tr>\n",
       "      <th>1</th>\n",
       "      <td>33</td>\n",
       "      <td>-73.138740</td>\n",
       "      <td>-3.587896</td>\n",
       "    </tr>\n",
       "    <tr>\n",
       "      <th>2</th>\n",
       "      <td>34</td>\n",
       "      <td>-72.765599</td>\n",
       "      <td>-3.423195</td>\n",
       "    </tr>\n",
       "  </tbody>\n",
       "</table>\n",
       "</div>"
      ],
      "text/plain": [
       "   id        lon       lat\n",
       "0  32 -73.040750 -3.502746\n",
       "1  33 -73.138740 -3.587896\n",
       "2  34 -72.765599 -3.423195"
      ]
     },
     "execution_count": 11,
     "metadata": {},
     "output_type": "execute_result"
    }
   ],
   "source": [
    "dfDpz.head(3)"
   ]
  },
  {
   "cell_type": "markdown",
   "id": "06f9f7d5",
   "metadata": {},
   "source": [
    "### Unir los archivos por el campo id"
   ]
  },
  {
   "cell_type": "code",
   "execution_count": 13,
   "id": "311c634f",
   "metadata": {},
   "outputs": [
    {
     "data": {
      "text/html": [
       "<div>\n",
       "<style scoped>\n",
       "    .dataframe tbody tr th:only-of-type {\n",
       "        vertical-align: middle;\n",
       "    }\n",
       "\n",
       "    .dataframe tbody tr th {\n",
       "        vertical-align: top;\n",
       "    }\n",
       "\n",
       "    .dataframe thead th {\n",
       "        text-align: right;\n",
       "    }\n",
       "</style>\n",
       "<table border=\"1\" class=\"dataframe\">\n",
       "  <thead>\n",
       "    <tr style=\"text-align: right;\">\n",
       "      <th></th>\n",
       "      <th>id</th>\n",
       "      <th>lon_org</th>\n",
       "      <th>lat_org</th>\n",
       "      <th>lon_dpz</th>\n",
       "      <th>lat_dpz</th>\n",
       "    </tr>\n",
       "  </thead>\n",
       "  <tbody>\n",
       "    <tr>\n",
       "      <th>0</th>\n",
       "      <td>32</td>\n",
       "      <td>-73.042052</td>\n",
       "      <td>-3.499631</td>\n",
       "      <td>-73.040750</td>\n",
       "      <td>-3.502746</td>\n",
       "    </tr>\n",
       "    <tr>\n",
       "      <th>1</th>\n",
       "      <td>33</td>\n",
       "      <td>-73.139910</td>\n",
       "      <td>-3.588879</td>\n",
       "      <td>-73.138740</td>\n",
       "      <td>-3.587896</td>\n",
       "    </tr>\n",
       "    <tr>\n",
       "      <th>2</th>\n",
       "      <td>34</td>\n",
       "      <td>-72.764743</td>\n",
       "      <td>-3.422353</td>\n",
       "      <td>-72.765599</td>\n",
       "      <td>-3.423195</td>\n",
       "    </tr>\n",
       "    <tr>\n",
       "      <th>3</th>\n",
       "      <td>35</td>\n",
       "      <td>-72.255437</td>\n",
       "      <td>-3.587455</td>\n",
       "      <td>-72.256289</td>\n",
       "      <td>-3.584875</td>\n",
       "    </tr>\n",
       "    <tr>\n",
       "      <th>4</th>\n",
       "      <td>36</td>\n",
       "      <td>-73.091047</td>\n",
       "      <td>-3.498959</td>\n",
       "      <td>-73.093628</td>\n",
       "      <td>-3.503485</td>\n",
       "    </tr>\n",
       "  </tbody>\n",
       "</table>\n",
       "</div>"
      ],
      "text/plain": [
       "   id    lon_org   lat_org    lon_dpz   lat_dpz\n",
       "0  32 -73.042052 -3.499631 -73.040750 -3.502746\n",
       "1  33 -73.139910 -3.588879 -73.138740 -3.587896\n",
       "2  34 -72.764743 -3.422353 -72.765599 -3.423195\n",
       "3  35 -72.255437 -3.587455 -72.256289 -3.584875\n",
       "4  36 -73.091047 -3.498959 -73.093628 -3.503485"
      ]
     },
     "execution_count": 13,
     "metadata": {},
     "output_type": "execute_result"
    }
   ],
   "source": [
    "# Merge: Unir dataframes\n",
    "dfMerge = dfOrg.merge(dfDpz, on='id', how='left', suffixes=('_org', '_dpz'))\n",
    "\n",
    "# Visualizar resultados\n",
    "dfMerge.head()"
   ]
  },
  {
   "cell_type": "markdown",
   "id": "a80ab07b",
   "metadata": {},
   "source": [
    "### Función para crear lineString a partir de dos pares de coordenadas:"
   ]
  },
  {
   "cell_type": "code",
   "execution_count": 15,
   "id": "7f5a0e5d",
   "metadata": {},
   "outputs": [
    {
     "name": "stdout",
     "output_type": "stream",
     "text": [
      "Realizado\n"
     ]
    }
   ],
   "source": [
    "funLineString = lambda lon_org, lat_org, lon_dpz, lat_dpz: LineString([(lon_org, lat_org), (lon_dpz, lat_dpz)])\n",
    "print('Realizado')"
   ]
  },
  {
   "cell_type": "markdown",
   "id": "8e5904ee",
   "metadata": {},
   "source": [
    "### Aplicar la función al dataframe"
   ]
  },
  {
   "cell_type": "code",
   "execution_count": 21,
   "id": "45a4a57f",
   "metadata": {},
   "outputs": [
    {
     "name": "stdout",
     "output_type": "stream",
     "text": [
      "Realizado\n"
     ]
    }
   ],
   "source": [
    "dfMerge['geometry'] = dfMerge.apply(lambda row: funLineString(row['lon_org'],\n",
    "                                                              row['lat_org'],\n",
    "                                                              row['lon_dpz'], \n",
    "                                                              row['lat_dpz']\n",
    "                                                             ),                                    \n",
    "                                    axis=1)\n",
    "print('Realizado')"
   ]
  },
  {
   "cell_type": "code",
   "execution_count": 22,
   "id": "d623f579",
   "metadata": {},
   "outputs": [
    {
     "data": {
      "text/html": [
       "<div>\n",
       "<style scoped>\n",
       "    .dataframe tbody tr th:only-of-type {\n",
       "        vertical-align: middle;\n",
       "    }\n",
       "\n",
       "    .dataframe tbody tr th {\n",
       "        vertical-align: top;\n",
       "    }\n",
       "\n",
       "    .dataframe thead th {\n",
       "        text-align: right;\n",
       "    }\n",
       "</style>\n",
       "<table border=\"1\" class=\"dataframe\">\n",
       "  <thead>\n",
       "    <tr style=\"text-align: right;\">\n",
       "      <th></th>\n",
       "      <th>id</th>\n",
       "      <th>lon_org</th>\n",
       "      <th>lat_org</th>\n",
       "      <th>lon_dpz</th>\n",
       "      <th>lat_dpz</th>\n",
       "      <th>geometry</th>\n",
       "    </tr>\n",
       "  </thead>\n",
       "  <tbody>\n",
       "    <tr>\n",
       "      <th>0</th>\n",
       "      <td>32</td>\n",
       "      <td>-73.042052</td>\n",
       "      <td>-3.499631</td>\n",
       "      <td>-73.040750</td>\n",
       "      <td>-3.502746</td>\n",
       "      <td>LINESTRING (-73.042052 -3.499631, -73.04075 -3...</td>\n",
       "    </tr>\n",
       "    <tr>\n",
       "      <th>1</th>\n",
       "      <td>33</td>\n",
       "      <td>-73.139910</td>\n",
       "      <td>-3.588879</td>\n",
       "      <td>-73.138740</td>\n",
       "      <td>-3.587896</td>\n",
       "      <td>LINESTRING (-73.13991 -3.588879, -73.13874 -3....</td>\n",
       "    </tr>\n",
       "    <tr>\n",
       "      <th>2</th>\n",
       "      <td>34</td>\n",
       "      <td>-72.764743</td>\n",
       "      <td>-3.422353</td>\n",
       "      <td>-72.765599</td>\n",
       "      <td>-3.423195</td>\n",
       "      <td>LINESTRING (-72.764743 -3.422353, -72.76559899...</td>\n",
       "    </tr>\n",
       "    <tr>\n",
       "      <th>3</th>\n",
       "      <td>35</td>\n",
       "      <td>-72.255437</td>\n",
       "      <td>-3.587455</td>\n",
       "      <td>-72.256289</td>\n",
       "      <td>-3.584875</td>\n",
       "      <td>LINESTRING (-72.255437 -3.587455, -72.256289 -...</td>\n",
       "    </tr>\n",
       "    <tr>\n",
       "      <th>4</th>\n",
       "      <td>36</td>\n",
       "      <td>-73.091047</td>\n",
       "      <td>-3.498959</td>\n",
       "      <td>-73.093628</td>\n",
       "      <td>-3.503485</td>\n",
       "      <td>LINESTRING (-73.091047 -3.498959, -73.093628 -...</td>\n",
       "    </tr>\n",
       "  </tbody>\n",
       "</table>\n",
       "</div>"
      ],
      "text/plain": [
       "   id    lon_org   lat_org    lon_dpz   lat_dpz  \\\n",
       "0  32 -73.042052 -3.499631 -73.040750 -3.502746   \n",
       "1  33 -73.139910 -3.588879 -73.138740 -3.587896   \n",
       "2  34 -72.764743 -3.422353 -72.765599 -3.423195   \n",
       "3  35 -72.255437 -3.587455 -72.256289 -3.584875   \n",
       "4  36 -73.091047 -3.498959 -73.093628 -3.503485   \n",
       "\n",
       "                                            geometry  \n",
       "0  LINESTRING (-73.042052 -3.499631, -73.04075 -3...  \n",
       "1  LINESTRING (-73.13991 -3.588879, -73.13874 -3....  \n",
       "2  LINESTRING (-72.764743 -3.422353, -72.76559899...  \n",
       "3  LINESTRING (-72.255437 -3.587455, -72.256289 -...  \n",
       "4  LINESTRING (-73.091047 -3.498959, -73.093628 -...  "
      ]
     },
     "execution_count": 22,
     "metadata": {},
     "output_type": "execute_result"
    }
   ],
   "source": [
    "dfMerge.head()"
   ]
  },
  {
   "cell_type": "markdown",
   "id": "a4c43d86",
   "metadata": {},
   "source": [
    "### Convertir dataframe a geodataframe"
   ]
  },
  {
   "cell_type": "code",
   "execution_count": 31,
   "id": "92252521",
   "metadata": {},
   "outputs": [
    {
     "name": "stdout",
     "output_type": "stream",
     "text": [
      "Realizado\n"
     ]
    }
   ],
   "source": [
    "geoDf = gpd.GeoDataFrame(dfMerge, geometry=dfMerge.geometry, crs='EPSG:4326')\n",
    "print('Realizado')"
   ]
  },
  {
   "cell_type": "code",
   "execution_count": 32,
   "id": "0c7ab72c",
   "metadata": {},
   "outputs": [
    {
     "data": {
      "text/html": [
       "<div>\n",
       "<style scoped>\n",
       "    .dataframe tbody tr th:only-of-type {\n",
       "        vertical-align: middle;\n",
       "    }\n",
       "\n",
       "    .dataframe tbody tr th {\n",
       "        vertical-align: top;\n",
       "    }\n",
       "\n",
       "    .dataframe thead th {\n",
       "        text-align: right;\n",
       "    }\n",
       "</style>\n",
       "<table border=\"1\" class=\"dataframe\">\n",
       "  <thead>\n",
       "    <tr style=\"text-align: right;\">\n",
       "      <th></th>\n",
       "      <th>id</th>\n",
       "      <th>lon_org</th>\n",
       "      <th>lat_org</th>\n",
       "      <th>lon_dpz</th>\n",
       "      <th>lat_dpz</th>\n",
       "      <th>geometry</th>\n",
       "    </tr>\n",
       "  </thead>\n",
       "  <tbody>\n",
       "    <tr>\n",
       "      <th>0</th>\n",
       "      <td>32</td>\n",
       "      <td>-73.042052</td>\n",
       "      <td>-3.499631</td>\n",
       "      <td>-73.040750</td>\n",
       "      <td>-3.502746</td>\n",
       "      <td>LINESTRING (-73.04205 -3.49963, -73.04075 -3.5...</td>\n",
       "    </tr>\n",
       "    <tr>\n",
       "      <th>1</th>\n",
       "      <td>33</td>\n",
       "      <td>-73.139910</td>\n",
       "      <td>-3.588879</td>\n",
       "      <td>-73.138740</td>\n",
       "      <td>-3.587896</td>\n",
       "      <td>LINESTRING (-73.13991 -3.58888, -73.13874 -3.5...</td>\n",
       "    </tr>\n",
       "    <tr>\n",
       "      <th>2</th>\n",
       "      <td>34</td>\n",
       "      <td>-72.764743</td>\n",
       "      <td>-3.422353</td>\n",
       "      <td>-72.765599</td>\n",
       "      <td>-3.423195</td>\n",
       "      <td>LINESTRING (-72.76474 -3.42235, -72.76560 -3.4...</td>\n",
       "    </tr>\n",
       "    <tr>\n",
       "      <th>3</th>\n",
       "      <td>35</td>\n",
       "      <td>-72.255437</td>\n",
       "      <td>-3.587455</td>\n",
       "      <td>-72.256289</td>\n",
       "      <td>-3.584875</td>\n",
       "      <td>LINESTRING (-72.25544 -3.58745, -72.25629 -3.5...</td>\n",
       "    </tr>\n",
       "    <tr>\n",
       "      <th>4</th>\n",
       "      <td>36</td>\n",
       "      <td>-73.091047</td>\n",
       "      <td>-3.498959</td>\n",
       "      <td>-73.093628</td>\n",
       "      <td>-3.503485</td>\n",
       "      <td>LINESTRING (-73.09105 -3.49896, -73.09363 -3.5...</td>\n",
       "    </tr>\n",
       "  </tbody>\n",
       "</table>\n",
       "</div>"
      ],
      "text/plain": [
       "   id    lon_org   lat_org    lon_dpz   lat_dpz  \\\n",
       "0  32 -73.042052 -3.499631 -73.040750 -3.502746   \n",
       "1  33 -73.139910 -3.588879 -73.138740 -3.587896   \n",
       "2  34 -72.764743 -3.422353 -72.765599 -3.423195   \n",
       "3  35 -72.255437 -3.587455 -72.256289 -3.584875   \n",
       "4  36 -73.091047 -3.498959 -73.093628 -3.503485   \n",
       "\n",
       "                                            geometry  \n",
       "0  LINESTRING (-73.04205 -3.49963, -73.04075 -3.5...  \n",
       "1  LINESTRING (-73.13991 -3.58888, -73.13874 -3.5...  \n",
       "2  LINESTRING (-72.76474 -3.42235, -72.76560 -3.4...  \n",
       "3  LINESTRING (-72.25544 -3.58745, -72.25629 -3.5...  \n",
       "4  LINESTRING (-73.09105 -3.49896, -73.09363 -3.5...  "
      ]
     },
     "execution_count": 32,
     "metadata": {},
     "output_type": "execute_result"
    }
   ],
   "source": [
    "geoDf.head()"
   ]
  },
  {
   "cell_type": "markdown",
   "id": "11d828a4",
   "metadata": {},
   "source": [
    "### Calcular la longitud (distancia)"
   ]
  },
  {
   "cell_type": "code",
   "execution_count": 35,
   "id": "154b99d8",
   "metadata": {},
   "outputs": [
    {
     "name": "stdout",
     "output_type": "stream",
     "text": [
      "Realizado\n"
     ]
    }
   ],
   "source": [
    "geoDf['distancia'] = geoDf.geometry.to_crs(32718).length\n",
    "print('Realizado')"
   ]
  },
  {
   "cell_type": "code",
   "execution_count": 36,
   "id": "a677b065",
   "metadata": {},
   "outputs": [
    {
     "data": {
      "text/html": [
       "<div>\n",
       "<style scoped>\n",
       "    .dataframe tbody tr th:only-of-type {\n",
       "        vertical-align: middle;\n",
       "    }\n",
       "\n",
       "    .dataframe tbody tr th {\n",
       "        vertical-align: top;\n",
       "    }\n",
       "\n",
       "    .dataframe thead th {\n",
       "        text-align: right;\n",
       "    }\n",
       "</style>\n",
       "<table border=\"1\" class=\"dataframe\">\n",
       "  <thead>\n",
       "    <tr style=\"text-align: right;\">\n",
       "      <th></th>\n",
       "      <th>id</th>\n",
       "      <th>lon_org</th>\n",
       "      <th>lat_org</th>\n",
       "      <th>lon_dpz</th>\n",
       "      <th>lat_dpz</th>\n",
       "      <th>geometry</th>\n",
       "      <th>distancia</th>\n",
       "    </tr>\n",
       "  </thead>\n",
       "  <tbody>\n",
       "    <tr>\n",
       "      <th>0</th>\n",
       "      <td>32</td>\n",
       "      <td>-73.042052</td>\n",
       "      <td>-3.499631</td>\n",
       "      <td>-73.040750</td>\n",
       "      <td>-3.502746</td>\n",
       "      <td>LINESTRING (-73.04205 -3.49963, -73.04075 -3.5...</td>\n",
       "      <td>373.668514</td>\n",
       "    </tr>\n",
       "    <tr>\n",
       "      <th>1</th>\n",
       "      <td>33</td>\n",
       "      <td>-73.139910</td>\n",
       "      <td>-3.588879</td>\n",
       "      <td>-73.138740</td>\n",
       "      <td>-3.587896</td>\n",
       "      <td>LINESTRING (-73.13991 -3.58888, -73.13874 -3.5...</td>\n",
       "      <td>169.470541</td>\n",
       "    </tr>\n",
       "    <tr>\n",
       "      <th>2</th>\n",
       "      <td>34</td>\n",
       "      <td>-72.764743</td>\n",
       "      <td>-3.422353</td>\n",
       "      <td>-72.765599</td>\n",
       "      <td>-3.423195</td>\n",
       "      <td>LINESTRING (-72.76474 -3.42235, -72.76560 -3.4...</td>\n",
       "      <td>133.152919</td>\n",
       "    </tr>\n",
       "    <tr>\n",
       "      <th>3</th>\n",
       "      <td>35</td>\n",
       "      <td>-72.255437</td>\n",
       "      <td>-3.587455</td>\n",
       "      <td>-72.256289</td>\n",
       "      <td>-3.584875</td>\n",
       "      <td>LINESTRING (-72.25544 -3.58745, -72.25629 -3.5...</td>\n",
       "      <td>300.812541</td>\n",
       "    </tr>\n",
       "    <tr>\n",
       "      <th>4</th>\n",
       "      <td>36</td>\n",
       "      <td>-73.091047</td>\n",
       "      <td>-3.498959</td>\n",
       "      <td>-73.093628</td>\n",
       "      <td>-3.503485</td>\n",
       "      <td>LINESTRING (-73.09105 -3.49896, -73.09363 -3.5...</td>\n",
       "      <td>576.911058</td>\n",
       "    </tr>\n",
       "  </tbody>\n",
       "</table>\n",
       "</div>"
      ],
      "text/plain": [
       "   id    lon_org   lat_org    lon_dpz   lat_dpz  \\\n",
       "0  32 -73.042052 -3.499631 -73.040750 -3.502746   \n",
       "1  33 -73.139910 -3.588879 -73.138740 -3.587896   \n",
       "2  34 -72.764743 -3.422353 -72.765599 -3.423195   \n",
       "3  35 -72.255437 -3.587455 -72.256289 -3.584875   \n",
       "4  36 -73.091047 -3.498959 -73.093628 -3.503485   \n",
       "\n",
       "                                            geometry   distancia  \n",
       "0  LINESTRING (-73.04205 -3.49963, -73.04075 -3.5...  373.668514  \n",
       "1  LINESTRING (-73.13991 -3.58888, -73.13874 -3.5...  169.470541  \n",
       "2  LINESTRING (-72.76474 -3.42235, -72.76560 -3.4...  133.152919  \n",
       "3  LINESTRING (-72.25544 -3.58745, -72.25629 -3.5...  300.812541  \n",
       "4  LINESTRING (-73.09105 -3.49896, -73.09363 -3.5...  576.911058  "
      ]
     },
     "execution_count": 36,
     "metadata": {},
     "output_type": "execute_result"
    }
   ],
   "source": [
    "geoDf.head()"
   ]
  },
  {
   "cell_type": "markdown",
   "id": "976ff161",
   "metadata": {},
   "source": [
    "### Exportar resultados"
   ]
  },
  {
   "cell_type": "code",
   "execution_count": 38,
   "id": "46ce68d1",
   "metadata": {},
   "outputs": [
    {
     "name": "stdout",
     "output_type": "stream",
     "text": [
      "Realizado\n"
     ]
    }
   ],
   "source": [
    "geoDf.to_file('out/gis.gpkg', layer='line_distance', driver='GPKG')\n",
    "print('Realizado')"
   ]
  },
  {
   "cell_type": "code",
   "execution_count": null,
   "id": "51015382",
   "metadata": {},
   "outputs": [],
   "source": []
  }
 ],
 "metadata": {
  "kernelspec": {
   "display_name": "Python 3 (ipykernel)",
   "language": "python",
   "name": "python3"
  },
  "language_info": {
   "codemirror_mode": {
    "name": "ipython",
    "version": 3
   },
   "file_extension": ".py",
   "mimetype": "text/x-python",
   "name": "python",
   "nbconvert_exporter": "python",
   "pygments_lexer": "ipython3",
   "version": "3.9.7"
  }
 },
 "nbformat": 4,
 "nbformat_minor": 5
}
