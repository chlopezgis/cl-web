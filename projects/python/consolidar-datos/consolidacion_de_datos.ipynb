{
 "cells": [
  {
   "cell_type": "code",
   "execution_count": 1,
   "id": "a8bc9389-fb86-4580-a2c5-2b5f1c56b04d",
   "metadata": {},
   "outputs": [],
   "source": [
    "# Importar módulos\n",
    "import geopandas as gpd\n",
    "import pandas as pd\n",
    "import glob"
   ]
  },
  {
   "cell_type": "markdown",
   "id": "e034cdba-d027-42ea-83e6-aea65f96347d",
   "metadata": {},
   "source": [
    "El módulo glob encuentra todos los nombres de rutas que se asemejan a un patrón especificado"
   ]
  },
  {
   "cell_type": "code",
   "execution_count": 2,
   "id": "dbfc745b-2f63-45ae-8d08-f12aa2b7f0e0",
   "metadata": {},
   "outputs": [],
   "source": [
    "# listar todos los archivos que terminen en .json dentro del direcotorio \"datos\":\n",
    "files = glob.glob('datos/**/*.json', recursive=True)"
   ]
  },
  {
   "cell_type": "code",
   "execution_count": 3,
   "id": "01c10ca1-a9c5-46e2-a8b6-9b017983f1d3",
   "metadata": {},
   "outputs": [
    {
     "data": {
      "text/plain": [
       "list"
      ]
     },
     "execution_count": 3,
     "metadata": {},
     "output_type": "execute_result"
    }
   ],
   "source": [
    "type(files)"
   ]
  },
  {
   "cell_type": "code",
   "execution_count": 4,
   "id": "ba48b608-eebb-45f6-83c4-d87bb879d959",
   "metadata": {},
   "outputs": [
    {
     "data": {
      "text/plain": [
       "801"
      ]
     },
     "execution_count": 4,
     "metadata": {},
     "output_type": "execute_result"
    }
   ],
   "source": [
    "len(files)"
   ]
  },
  {
   "cell_type": "code",
   "execution_count": 5,
   "id": "b89f6661-4c8f-49ac-984c-6c7d954d28b4",
   "metadata": {},
   "outputs": [
    {
     "name": "stdout",
     "output_type": "stream",
     "text": [
      "datos\\lotes1\\lotes_11000.json\n",
      "datos\\lotes1\\lotes_12000.json\n",
      "datos\\lotes1\\lotes_13000.json\n",
      "datos\\lotes1\\lotes_14000.json\n",
      "datos\\lotes1\\lotes_15000.json\n"
     ]
    }
   ],
   "source": [
    "for f in files[0:5]:\n",
    "    print(f)"
   ]
  },
  {
   "cell_type": "code",
   "execution_count": 6,
   "id": "451c5eb0-d0b0-4746-a455-7a09d729ee04",
   "metadata": {},
   "outputs": [],
   "source": [
    "# GeoDataFrame que almacenará el resultado\n",
    "gdfResul = gpd.GeoDataFrame()\n",
    "\n",
    "# Bucle para recorrer todas las rutas, convertirlos en geodataframe \n",
    "# y unirlas a gdfResul\n",
    "for f in files:\n",
    "    gdf = gpd.read_file(f, encoding='UTF-8')\n",
    "    gdfResul = pd.concat([gdfResul, gdf])   "
   ]
  },
  {
   "cell_type": "code",
   "execution_count": 8,
   "id": "ebe287d5-8a3c-4db2-8686-f061f015f866",
   "metadata": {},
   "outputs": [
    {
     "data": {
      "text/plain": [
       "(800588, 39)"
      ]
     },
     "execution_count": 8,
     "metadata": {},
     "output_type": "execute_result"
    }
   ],
   "source": [
    "gdfResul.shape"
   ]
  },
  {
   "cell_type": "code",
   "execution_count": 9,
   "id": "2dce76e4-759e-4cec-bc99-1df40d572446",
   "metadata": {},
   "outputs": [
    {
     "data": {
      "text/html": [
       "<div>\n",
       "<style scoped>\n",
       "    .dataframe tbody tr th:only-of-type {\n",
       "        vertical-align: middle;\n",
       "    }\n",
       "\n",
       "    .dataframe tbody tr th {\n",
       "        vertical-align: top;\n",
       "    }\n",
       "\n",
       "    .dataframe thead th {\n",
       "        text-align: right;\n",
       "    }\n",
       "</style>\n",
       "<table border=\"1\" class=\"dataframe\">\n",
       "  <thead>\n",
       "    <tr style=\"text-align: right;\">\n",
       "      <th></th>\n",
       "      <th>OBJECTID</th>\n",
       "      <th>COD_LOTE</th>\n",
       "      <th>COD_MZNA</th>\n",
       "      <th>COD_SECT</th>\n",
       "      <th>ID_LOTE</th>\n",
       "      <th>ID_MZNA</th>\n",
       "      <th>HAB_URBANA</th>\n",
       "      <th>MZNA_MUNI</th>\n",
       "      <th>LOTE_MUNI</th>\n",
       "      <th>NRO_UNIDADES</th>\n",
       "      <th>...</th>\n",
       "      <th>ID_DPTO</th>\n",
       "      <th>ID_PLANO</th>\n",
       "      <th>AREA_GRAFICA</th>\n",
       "      <th>FECH_TRAN</th>\n",
       "      <th>CODI_USER</th>\n",
       "      <th>ANIO_CAT</th>\n",
       "      <th>CUC</th>\n",
       "      <th>SHAPE.AREA</th>\n",
       "      <th>SHAPE.LEN</th>\n",
       "      <th>geometry</th>\n",
       "    </tr>\n",
       "  </thead>\n",
       "  <tbody>\n",
       "    <tr>\n",
       "      <th>0</th>\n",
       "      <td>10001</td>\n",
       "      <td>011</td>\n",
       "      <td>009</td>\n",
       "      <td>03</td>\n",
       "      <td>22090903009011</td>\n",
       "      <td>22090903009</td>\n",
       "      <td>0010</td>\n",
       "      <td>H</td>\n",
       "      <td>11</td>\n",
       "      <td>1.0</td>\n",
       "      <td>...</td>\n",
       "      <td>22</td>\n",
       "      <td>PLN-00000130410</td>\n",
       "      <td>138.59</td>\n",
       "      <td>1472688000000</td>\n",
       "      <td>GQUIROZ</td>\n",
       "      <td>2016</td>\n",
       "      <td>None</td>\n",
       "      <td>0.0</td>\n",
       "      <td>0.0</td>\n",
       "      <td>POLYGON ((-76.34595 -6.49076, -76.34603 -6.490...</td>\n",
       "    </tr>\n",
       "    <tr>\n",
       "      <th>1</th>\n",
       "      <td>10002</td>\n",
       "      <td>011</td>\n",
       "      <td>004</td>\n",
       "      <td>03</td>\n",
       "      <td>22090903004011</td>\n",
       "      <td>22090903004</td>\n",
       "      <td>0010</td>\n",
       "      <td>F</td>\n",
       "      <td>13</td>\n",
       "      <td>1.0</td>\n",
       "      <td>...</td>\n",
       "      <td>22</td>\n",
       "      <td>PLN-00000130410</td>\n",
       "      <td>172.28</td>\n",
       "      <td>1472688000000</td>\n",
       "      <td>GQUIROZ</td>\n",
       "      <td>2016</td>\n",
       "      <td>None</td>\n",
       "      <td>0.0</td>\n",
       "      <td>0.0</td>\n",
       "      <td>POLYGON ((-76.34718 -6.49008, -76.34723 -6.490...</td>\n",
       "    </tr>\n",
       "    <tr>\n",
       "      <th>2</th>\n",
       "      <td>10003</td>\n",
       "      <td>005</td>\n",
       "      <td>004</td>\n",
       "      <td>03</td>\n",
       "      <td>22090903004005</td>\n",
       "      <td>22090903004</td>\n",
       "      <td>0010</td>\n",
       "      <td>F</td>\n",
       "      <td>19</td>\n",
       "      <td>1.0</td>\n",
       "      <td>...</td>\n",
       "      <td>22</td>\n",
       "      <td>PLN-00000130410</td>\n",
       "      <td>143.05</td>\n",
       "      <td>1472688000000</td>\n",
       "      <td>GQUIROZ</td>\n",
       "      <td>2016</td>\n",
       "      <td>None</td>\n",
       "      <td>0.0</td>\n",
       "      <td>0.0</td>\n",
       "      <td>POLYGON ((-76.34696 -6.49000, -76.34698 -6.490...</td>\n",
       "    </tr>\n",
       "    <tr>\n",
       "      <th>3</th>\n",
       "      <td>10004</td>\n",
       "      <td>019</td>\n",
       "      <td>008</td>\n",
       "      <td>03</td>\n",
       "      <td>22090903008019</td>\n",
       "      <td>22090903008</td>\n",
       "      <td>0010</td>\n",
       "      <td>D</td>\n",
       "      <td>12</td>\n",
       "      <td>1.0</td>\n",
       "      <td>...</td>\n",
       "      <td>22</td>\n",
       "      <td>PLN-00000130410</td>\n",
       "      <td>154.74</td>\n",
       "      <td>1472688000000</td>\n",
       "      <td>GQUIROZ</td>\n",
       "      <td>2016</td>\n",
       "      <td>None</td>\n",
       "      <td>0.0</td>\n",
       "      <td>0.0</td>\n",
       "      <td>POLYGON ((-76.34777 -6.49070, -76.34771 -6.490...</td>\n",
       "    </tr>\n",
       "    <tr>\n",
       "      <th>4</th>\n",
       "      <td>10005</td>\n",
       "      <td>005</td>\n",
       "      <td>009</td>\n",
       "      <td>03</td>\n",
       "      <td>22090903009005</td>\n",
       "      <td>22090903009</td>\n",
       "      <td>0010</td>\n",
       "      <td>H</td>\n",
       "      <td>5</td>\n",
       "      <td>1.0</td>\n",
       "      <td>...</td>\n",
       "      <td>22</td>\n",
       "      <td>PLN-00000130410</td>\n",
       "      <td>202.91</td>\n",
       "      <td>1472688000000</td>\n",
       "      <td>GQUIROZ</td>\n",
       "      <td>2016</td>\n",
       "      <td>None</td>\n",
       "      <td>0.0</td>\n",
       "      <td>0.0</td>\n",
       "      <td>POLYGON ((-76.34625 -6.49086, -76.34620 -6.490...</td>\n",
       "    </tr>\n",
       "  </tbody>\n",
       "</table>\n",
       "<p>5 rows × 39 columns</p>\n",
       "</div>"
      ],
      "text/plain": [
       "   OBJECTID COD_LOTE COD_MZNA COD_SECT             ID_LOTE      ID_MZNA  \\\n",
       "0     10001      011      009       03  22090903009011      22090903009   \n",
       "1     10002      011      004       03  22090903004011      22090903004   \n",
       "2     10003      005      004       03  22090903004005      22090903004   \n",
       "3     10004      019      008       03  22090903008019      22090903008   \n",
       "4     10005      005      009       03  22090903009005      22090903009   \n",
       "\n",
       "  HAB_URBANA MZNA_MUNI LOTE_MUNI NRO_UNIDADES  ... ID_DPTO         ID_PLANO  \\\n",
       "0       0010         H        11          1.0  ...      22  PLN-00000130410   \n",
       "1       0010         F        13          1.0  ...      22  PLN-00000130410   \n",
       "2       0010         F        19          1.0  ...      22  PLN-00000130410   \n",
       "3       0010         D        12          1.0  ...      22  PLN-00000130410   \n",
       "4       0010         H         5          1.0  ...      22  PLN-00000130410   \n",
       "\n",
       "  AREA_GRAFICA      FECH_TRAN CODI_USER ANIO_CAT   CUC SHAPE.AREA SHAPE.LEN  \\\n",
       "0       138.59  1472688000000   GQUIROZ     2016  None        0.0       0.0   \n",
       "1       172.28  1472688000000   GQUIROZ     2016  None        0.0       0.0   \n",
       "2       143.05  1472688000000   GQUIROZ     2016  None        0.0       0.0   \n",
       "3       154.74  1472688000000   GQUIROZ     2016  None        0.0       0.0   \n",
       "4       202.91  1472688000000   GQUIROZ     2016  None        0.0       0.0   \n",
       "\n",
       "                                            geometry  \n",
       "0  POLYGON ((-76.34595 -6.49076, -76.34603 -6.490...  \n",
       "1  POLYGON ((-76.34718 -6.49008, -76.34723 -6.490...  \n",
       "2  POLYGON ((-76.34696 -6.49000, -76.34698 -6.490...  \n",
       "3  POLYGON ((-76.34777 -6.49070, -76.34771 -6.490...  \n",
       "4  POLYGON ((-76.34625 -6.49086, -76.34620 -6.490...  \n",
       "\n",
       "[5 rows x 39 columns]"
      ]
     },
     "execution_count": 9,
     "metadata": {},
     "output_type": "execute_result"
    }
   ],
   "source": [
    "gdfResul.head()"
   ]
  },
  {
   "cell_type": "code",
   "execution_count": 10,
   "id": "b1ca4c25-f673-4f33-89a8-218a2321a39f",
   "metadata": {},
   "outputs": [],
   "source": [
    "gdfResul.explore()"
   ]
  },
  {
   "cell_type": "code",
   "execution_count": 11,
   "id": "42b6d22e-994e-4a0f-b2a4-546335f1221b",
   "metadata": {},
   "outputs": [],
   "source": [
    "gdfResul.to_file('datos/catastro.gpkg', layer='predios', driver='GPKG')"
   ]
  }
 ],
 "metadata": {
  "kernelspec": {
   "display_name": "Python 3 (ipykernel)",
   "language": "python",
   "name": "python3"
  },
  "language_info": {
   "codemirror_mode": {
    "name": "ipython",
    "version": 3
   },
   "file_extension": ".py",
   "mimetype": "text/x-python",
   "name": "python",
   "nbconvert_exporter": "python",
   "pygments_lexer": "ipython3",
   "version": "3.9.7"
  }
 },
 "nbformat": 4,
 "nbformat_minor": 5
}
