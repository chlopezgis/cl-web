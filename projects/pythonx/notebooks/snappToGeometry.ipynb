{
 "cells": [
  {
   "cell_type": "markdown",
   "id": "0558518f-04c7-4d0b-b431-7eb1a48ac3b8",
   "metadata": {},
   "source": [
    "# **Ajustar puntos a la geometría más cercana**"
   ]
  },
  {
   "cell_type": "markdown",
   "id": "4fdd3602-633c-4bfe-96be-7236fc3c7451",
   "metadata": {},
   "source": [
    "## **1. Introducción**\n",
    "\n",
    "En el análisis geoespacial, asegurar la coherencia topológica entre distintas capas de\n",
    "información es fundamental para garantizar la precisión y confiabilidad de los datos.\n",
    "En entornos urbanos, es común que las direcciones no se alineen exactamente con los\n",
    "límites de sus respectivas manzanas debido a errores de captura o a la integración de\n",
    "datos provenientes de distintas fuentes. Estas discrepancias pueden impactar los análisis\n",
    "espaciales y las visualizaciones, por lo que es necesario aplicar técnicas de ajuste\n",
    "geométrico que corrijan estas inconsistencias y preserven la integridad topológica de la\n",
    "información."
   ]
  },
  {
   "cell_type": "markdown",
   "id": "814b9728-4175-4355-9213-49afb4158de3",
   "metadata": {},
   "source": [
    "## **2. Objetivo**\n",
    "\n",
    "Implementar un procedimiento para ajustar la ubicación de las direcciones a su manzana \n",
    "correspondiente, garantizando la coherencia topológica y mejorando la precisión de los \n",
    "datos espaciales."
   ]
  },
  {
   "cell_type": "markdown",
   "id": "d5ec7745-d084-44d6-b5ea-feb34c7d96ad",
   "metadata": {},
   "source": [
    "## **3. Alcance**\n",
    "            \n",
    "En este artículo se trabajará con datos de direcciones y manzanas, representados como \n",
    "geometrías de puntos y polígonos, respectivamente. Cada entidad cuenta con un código \n",
    "que establece la relación entre ambas (código de manzana). El ajuste se aplicará únicamente \n",
    "a los puntos cuyo código de manzana coincida con el de la manzana correspondiente. Si los \n",
    "datos de direcciones no incluyen este código, se recomienda realizar una unión espacial \n",
    "con la manzana más cercana para asignarlo; sin embargo, este procedimiento queda fuera del \n",
    "alcance de este artículo."
   ]
  },
  {
   "cell_type": "markdown",
   "id": "9d24c204-71e5-457e-9775-bbd0fbb5957b",
   "metadata": {},
   "source": [
    "## **4. Datos Utilizados**\n",
    "\n",
    "Para este proceso, utilizaremos dos capas geoespaciales:\n",
    "\n",
    "* **Capa de direcciones**: Representa ubicaciones de direcciones con un código de manzana asociado.\n",
    "* **Capa de manzanas**: Contiene los polígonos de las manzanas con su respectivo código.\n",
    "\n",
    "El código de manzana en ambas capas es clave para garantizar que el ajuste se realice correctamente."
   ]
  },
  {
   "cell_type": "markdown",
   "id": "7d9a87ef-1d5f-48bd-99fe-a6d3b9547aab",
   "metadata": {},
   "source": [
    "## **5. Herramientas para el Proceso**\n",
    "\n",
    "Para realizar el ajuste de los puntos, utilizaremos los siguientes módulos de Python:\n",
    "\n",
    "* **GeoPandas**: Para manejar datos espaciales en formato vectorial.\n",
    "* **Shapely**: Para encontrar el punto más cercano entre dos geometría.\n",
    "\n",
    "A continuación, importamos los módulos:"
   ]
  },
  {
   "cell_type": "code",
   "execution_count": null,
   "id": "43520dab-9377-4318-9eda-f5cf7015a80c",
   "metadata": {},
   "outputs": [],
   "source": [
    "import geopandas as gpd\n",
    "from shapely.ops import nearest_points"
   ]
  },
  {
   "cell_type": "markdown",
   "id": "d2e8a51f-f404-4cb8-955d-5d850cd07bd4",
   "metadata": {},
   "source": [
    "## **6. Preprocesamiento de Datos**\n",
    "\n",
    "### **Inspeccionar archivos de entrada**\n",
    "\n",
    "Los datos se almacenan en un GeoPackage llamado `sample_data`. Para identificar el nombre de cada capa, primero inspeccionaremos el archivo utilizando el comando gdalinfo de la suite GDAL."
   ]
  },
  {
   "cell_type": "code",
   "execution_count": null,
   "id": "c0fe9176-39bd-49df-98af-d879187cb661",
   "metadata": {},
   "outputs": [],
   "source": [
    "!ogrinfo ../data/sample_data.gpkg"
   ]
  },
  {
   "cell_type": "markdown",
   "id": "12c696d9-b898-46e3-a913-d4213a31817d",
   "metadata": {},
   "source": [
    "### **Lectura de datos Geoespaciales**\n",
    "\n",
    "Una vez verificado los datos, procederemos a lectura de los datos geoespaciales utilizando para esto geopandas y su método **[read_file](https://geopandas.org/en/stable/docs/reference/api/geopandas.read_file.html)**"
   ]
  },
  {
   "cell_type": "code",
   "execution_count": null,
   "id": "22a909b5-9573-48a7-86f2-af681cd4e711",
   "metadata": {},
   "outputs": [],
   "source": [
    "blocks = gpd.read_file(filename='../data/sample_data.gpkg', layer='blocks')\n",
    "apts = gpd.read_file(filename='../data/sample_data.gpkg', layer='address_points')"
   ]
  },
  {
   "cell_type": "markdown",
   "id": "f74bbec0-430c-438f-befd-41bd6c474226",
   "metadata": {},
   "source": [
    "### **Filtrar columnas de interes**\n",
    "\n",
    "A continuación, analizamos las columnas de ambos GeoDataFrames para identificar los campos relevantes para el proceso."
   ]
  },
  {
   "cell_type": "code",
   "execution_count": null,
   "id": "723bb243-d2b1-418d-9229-e7120653aed6",
   "metadata": {},
   "outputs": [],
   "source": [
    "blocks.columns.values"
   ]
  },
  {
   "cell_type": "code",
   "execution_count": null,
   "id": "54e7b38d-27d1-4691-a22e-7ba818597d92",
   "metadata": {},
   "outputs": [],
   "source": [
    "apts.columns.values"
   ]
  },
  {
   "cell_type": "markdown",
   "id": "9eb84999-3277-44ba-af2f-5f3267512b17",
   "metadata": {},
   "source": [
    "Para la capa de Manzanas, seleccionaremos los campos de \"CODIGOMANZANA\" y \"geometry\". Para las direcciones, los campos de \"OBJECTID\", \"CODIGOMANZANA\" y \"geometry\""
   ]
  },
  {
   "cell_type": "code",
   "execution_count": null,
   "id": "2a42b748-5347-4c57-99b9-68cd7ff2a263",
   "metadata": {},
   "outputs": [],
   "source": [
    "blocks = blocks[['CODIGOMANZANA','geometry']]\n",
    "blocks.head(1)"
   ]
  },
  {
   "cell_type": "code",
   "execution_count": null,
   "id": "0b3f0c1d-b98f-42b9-8a4b-81953fdbc9ab",
   "metadata": {},
   "outputs": [],
   "source": [
    "apts = apts[['OBJECTID','CODIGOMANZANA','geometry']]\n",
    "apts.head(1)"
   ]
  },
  {
   "cell_type": "markdown",
   "id": "ac1cb970-c251-4478-8a58-6af94a9fe315",
   "metadata": {},
   "source": [
    "### **Verificar el campo \"CODIGOMANZANA\"**\n",
    "\n",
    "El campo \"CODIGOMANZANA\" es el vínculo que relaciona las direcciones con las manzanas. Para unir ambas capas correctamente, este campo debe tener el mismo tipo de dato en ambas tablas. Verifiquemos que se cumpla esta condición"
   ]
  },
  {
   "cell_type": "code",
   "execution_count": null,
   "id": "db24781c-a71b-478e-a3af-38f0d88c1f23",
   "metadata": {},
   "outputs": [],
   "source": [
    "blocks.dtypes"
   ]
  },
  {
   "cell_type": "code",
   "execution_count": null,
   "id": "2e5cec37-ec2c-438b-9f27-78d69f3bdd57",
   "metadata": {},
   "outputs": [],
   "source": [
    "apts.dtypes"
   ]
  },
  {
   "cell_type": "markdown",
   "id": "590c2b0c-d704-4be9-acee-ddc7f7f6f79c",
   "metadata": {},
   "source": [
    "Observamos que el campo \"CODIGOMANZANA\" en la capa de direcciones es de tipo float, mientras que en la capa de manzanas es de tipo integer. Para asegurar la compatibilidad entre ambas, convertiremos el campo en la capa de direcciones de float a integer."
   ]
  },
  {
   "cell_type": "code",
   "execution_count": null,
   "id": "0bc5675c-86ea-4811-853f-9a61aaa70294",
   "metadata": {},
   "outputs": [],
   "source": [
    "# Convertir de float a entero\n",
    "apts['CODIGOMANZANA'] = apts['CODIGOMANZANA'].astype('int64')\n",
    "# Consultar el tipo de dato de los campos\n",
    "apts.dtypes"
   ]
  },
  {
   "cell_type": "markdown",
   "id": "bc23767a-49f3-4e96-9346-80f34eb65e2e",
   "metadata": {},
   "source": [
    "### **Verificar el sistema de referencia espacial**\n",
    "\n",
    "Para realizar el proceso de ajuste espacial, ambas capas deben estar en el mismo Sistema de Referencia. Evaluamos si ambas presentan el mismo CRS"
   ]
  },
  {
   "cell_type": "code",
   "execution_count": null,
   "id": "2c943965-cd9e-4c36-aed2-71b0f20ae744",
   "metadata": {},
   "outputs": [],
   "source": [
    "blocks.crs == apts.crs"
   ]
  },
  {
   "cell_type": "markdown",
   "id": "f90e2c74-68a4-4d18-bee9-cc45f227de36",
   "metadata": {},
   "source": [
    "Ambas capas poseen el mismo CRS, veamos cual es:"
   ]
  },
  {
   "cell_type": "code",
   "execution_count": null,
   "id": "d9a944f4-918e-4244-a9ec-40af90811b98",
   "metadata": {},
   "outputs": [],
   "source": [
    "blocks.crs"
   ]
  },
  {
   "cell_type": "markdown",
   "id": "ce0909d5-37da-409d-841a-869be7a0a421",
   "metadata": {},
   "source": [
    "Ambas capas se encuentran en el CRS WGS 84 / UTM zone 18S (EPS: 32178)"
   ]
  },
  {
   "cell_type": "markdown",
   "id": "7718f3d9-c467-436a-b1b0-7bf75a8bdd2c",
   "metadata": {},
   "source": [
    "### **Calcular el anillo exterior para la manzanas**\n",
    "\n",
    "Para realizar el Snap al borde de la manzana necesitamos que la geometría sea de tipo lineal. Para esto, calcularemos el anillo exterior de los polígonos"
   ]
  },
  {
   "cell_type": "code",
   "execution_count": null,
   "id": "752873fd-a991-48b2-99dd-68b74a72c466",
   "metadata": {},
   "outputs": [],
   "source": [
    "# Convertir de Multipolygon a Polygon\n",
    "blocks = blocks.explode()\n",
    "\n",
    "#Crear un campo con la geometría del anillo exterior\n",
    "blocks['exterior'] = blocks.exterior\n",
    "\n",
    "# Visualizar el primer registro\n",
    "blocks[['CODIGOMANZANA','geometry','exterior']].head(1)"
   ]
  },
  {
   "cell_type": "markdown",
   "id": "ac721c4f-c3bd-4286-ab0e-7aee347484c2",
   "metadata": {
    "tags": []
   },
   "source": [
    "## **7. Ajuste Espacial**\n",
    "\n",
    "Para realizar proceso de ajuste espacial utilizaremos la función **[nearest_points](https://shapely.readthedocs.io/en/2.0.4/manual.html#nearest-points)**  que se utiliza para encontrar los puntos más cercanos entre dos geometrías.\n",
    "\n",
    "**Descripción:**\n",
    "\n",
    "**`nearest_points(geom1, geom2)`** devuelve un par de puntos:\n",
    "\n",
    "* El primer punto pertenece a geom1 y es el más cercano a geom2.\n",
    "* El segundo punto pertenece a geom2 y es el más cercano a geom1.\n",
    "\n",
    "Para garantizar que cada dirección se ajuste correctamente a su manzana correspondiente, primero alinearemos ambas capas utilizando el campo \"CODIGOMANZANA\". Dado que cada punto debe asociarse con la manzana que comparte el mismo código, primero incorporaremos la geometría de los polígonos al GeoDataFrame de las direcciones. Luego, utilizaremos **`apply`** para calcular el punto de ajuste de manera eficiente, optimizando el proceso al reducir comparaciones innecesarias.\n",
    "\n",
    "Por lo tanto, el primer paso será alinear las manzanas con el siguiente código:"
   ]
  },
  {
   "cell_type": "code",
   "execution_count": null,
   "id": "a8806982-9b63-4578-a094-07fa358b6fd3",
   "metadata": {},
   "outputs": [],
   "source": [
    "aptsMerge = apts.merge(blocks[['CODIGOMANZANA','exterior']],\n",
    "                       on='CODIGOMANZANA', \n",
    "                       how='left')"
   ]
  },
  {
   "cell_type": "markdown",
   "id": "005970f0-23fa-455c-8507-70e2ca9af4cd",
   "metadata": {},
   "source": [
    "Visualicemos el resultado:"
   ]
  },
  {
   "cell_type": "code",
   "execution_count": null,
   "id": "7a387ac8-1a1f-4609-925f-9f55814ac7f6",
   "metadata": {},
   "outputs": [],
   "source": [
    "aptsMerge[['OBJECTID','CODIGOMANZANA','geometry','exterior']].head(3)"
   ]
  },
  {
   "cell_type": "markdown",
   "id": "475aa43a-610b-4bff-a527-90b06d7dc45f",
   "metadata": {},
   "source": [
    "El siguiente código ajusta espacialmente cada punto a su manzana correspondiente, utilizando ambas geometrías."
   ]
  },
  {
   "cell_type": "code",
   "execution_count": null,
   "id": "b052b9b0-bdc4-4ff3-8405-c7ef47ceecbe",
   "metadata": {},
   "outputs": [],
   "source": [
    "# Ajuste Espacial\n",
    "aptsMerge[\"snap\"] = aptsMerge.apply(lambda row: nearest_points(row[\"geometry\"],\n",
    "                                                                row[\"exterior\"])[1],\n",
    "                                     axis=1)"
   ]
  },
  {
   "cell_type": "markdown",
   "id": "750865d7-02a4-447f-b531-cd22a3c81175",
   "metadata": {},
   "source": [
    "Como resultado, se agrega una nueva columna llamada \"snap\" al GeoDataFrame **`aptsMerge`**, donde cada fila almacena el punto más cercano en la geometría de referencia (el \"exterior\" de cada manzana).\n",
    "\n",
    "\n",
    ">_**NOTA**: En versiones recientes de GeoPandas, es posible utilizar la función directamente, no obstante, se recomienda el uso de `apply` para garantizar compatibilidad con versiones anteriores:_<br>\n",
    "> `aptsMerge['geom_snapp'] = list(nearest_points(aptsMerge['geometry'], aptsMerge['exterior']))[1]`\n",
    "\n",
    "Luego, asignaremos la nueva geometría a la capa, estableceremos el CRS y eliminaremos las geometrías anteriores."
   ]
  },
  {
   "cell_type": "code",
   "execution_count": null,
   "id": "3c8dd9a2-24c2-4cc3-9e18-16e1d0c3e6ee",
   "metadata": {},
   "outputs": [],
   "source": [
    "# Actualizar la capa con la geometría ajustada\n",
    "aptsMerge = aptsMerge.set_geometry('snap')\n",
    "aptsMerge = aptsMerge.set_crs('32718')\n",
    "\n",
    "# Eliminar geometrías anteriores:\n",
    "del aptsMerge['exterior']\n",
    "del aptsMerge['geometry']"
   ]
  },
  {
   "cell_type": "markdown",
   "id": "b4fe2a52-7642-4863-8cbc-add6dee3f944",
   "metadata": {},
   "source": [
    "Finalmente, exportaremos los resultados como GeoJSON"
   ]
  },
  {
   "cell_type": "code",
   "execution_count": null,
   "id": "3fb8cf4d-1ea0-4ae2-9561-38c62b2b3390",
   "metadata": {},
   "outputs": [],
   "source": [
    "aptsMerge.to_file('../data/apts_adj.gjson', driver='GeoJSON')"
   ]
  },
  {
   "cell_type": "markdown",
   "id": "c33fb397-64e2-41c6-b047-6e1da6e51bc8",
   "metadata": {},
   "source": [
    "## 8. Visualización de Resultados\n",
    "\n",
    "Para evaluar el ajuste, se comparan las ubicaciones antes y después del proceso utilizando Mapas interactivos con Folium que Facilitan la exploración de los datos ajustados en un entorno dinámico, permitiendo alternar entre la vista original y la corregida."
   ]
  },
  {
   "cell_type": "markdown",
   "id": "764a5e6c-f8d0-4c47-b3ca-5e8e01aaede2",
   "metadata": {},
   "source": [
    "## 9. Recomendaciones Finales\n",
    "\n",
    "Para asegurar un ajuste preciso y confiable, se deben considerar los siguientes puntos:\n",
    "\n",
    "* Siempre verificar la coherencia de los códigos de manzana antes de aplicar el ajuste.\n",
    "* Si los datos provienen de fuentes diferentes, realizar una validación previa antes de asignar puntos a manzanas.\n",
    "* Visualizar los resultados antes y después, para asegurarse de que el ajuste ha sido exitoso."
   ]
  },
  {
   "cell_type": "markdown",
   "id": "eb9b2c51-5bab-4db8-aa08-021c827d410a",
   "metadata": {},
   "source": [
    "## 10. Conclusión\n",
    "\n",
    "El uso de Snap To Geometry en Python permite corregir la ubicación de direcciones respetando la relación punto-manzana mediante un código común. Gracias a herramientas como GeoPandas y Shapely, podemos automatizar este proceso y mejorar la calidad de nuestros datos espaciales."
   ]
  }
 ],
 "metadata": {
  "kernelspec": {
   "display_name": "Python 3 (ipykernel)",
   "language": "python",
   "name": "python3"
  },
  "language_info": {
   "codemirror_mode": {
    "name": "ipython",
    "version": 3
   },
   "file_extension": ".py",
   "mimetype": "text/x-python",
   "name": "python",
   "nbconvert_exporter": "python",
   "pygments_lexer": "ipython3",
   "version": "3.9.7"
  }
 },
 "nbformat": 4,
 "nbformat_minor": 5
}
